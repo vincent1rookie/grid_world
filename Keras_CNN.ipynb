{
 "cells": [
  {
   "cell_type": "code",
   "execution_count": 3,
   "metadata": {
    "colab": {
     "base_uri": "https://localhost:8080/",
     "height": 51
    },
    "colab_type": "code",
    "id": "srUSq192DPb8",
    "outputId": "a09f3a2f-0bda-4799-f4fa-4c76da775d98"
   },
   "outputs": [
    {
     "name": "stdout",
     "output_type": "stream",
     "text": [
      "1.13.1\n",
      "2.2.4-tf\n"
     ]
    }
   ],
   "source": [
    "import tensorflow as tf\n",
    "from tensorflow.examples.tutorials.mnist import input_data\n",
    "import warnings\n",
    "warnings.filterwarnings('ignore')\n",
    "\n",
    "print(tf.VERSION)\n",
    "print(tf.keras.__version__)"
   ]
  },
  {
   "cell_type": "code",
   "execution_count": 5,
   "metadata": {
    "colab": {
     "base_uri": "https://localhost:8080/",
     "height": 85
    },
    "colab_type": "code",
    "id": "ReO1FH6gJ2Ul",
    "outputId": "e6aa3386-49e9-403e-c838-1393f8d4a0b9"
   },
   "outputs": [
    {
     "name": "stdout",
     "output_type": "stream",
     "text": [
      "Extracting MNIST_data/train-images-idx3-ubyte.gz\n",
      "Extracting MNIST_data/train-labels-idx1-ubyte.gz\n",
      "Extracting MNIST_data/t10k-images-idx3-ubyte.gz\n",
      "Extracting MNIST_data/t10k-labels-idx1-ubyte.gz\n"
     ]
    }
   ],
   "source": [
    "mnist = input_data.read_data_sets(\"MNIST_data/\", one_hot=True)"
   ]
  },
  {
   "cell_type": "code",
   "execution_count": 0,
   "metadata": {
    "colab": {},
    "colab_type": "code",
    "id": "r4PsZ3wZK9yv"
   },
   "outputs": [],
   "source": [
    "import numpy as np\n",
    "train_data = mnist.train.images.reshape(55000,28,28,1)\n",
    "train_labels = mnist.train.labels\n",
    "test_data = mnist.test.images.reshape(10000,28,28,1)\n",
    "test_labels = mnist.test.labels"
   ]
  },
  {
   "cell_type": "code",
   "execution_count": 11,
   "metadata": {
    "colab": {
     "base_uri": "https://localhost:8080/",
     "height": 462
    },
    "colab_type": "code",
    "id": "xJ-RuZ5JJXD_",
    "outputId": "3d119adb-a218-48d5-cefa-2baaf23da974"
   },
   "outputs": [
    {
     "name": "stdout",
     "output_type": "stream",
     "text": [
      "WARNING:tensorflow:From /usr/local/lib/python3.6/dist-packages/tensorflow/python/ops/math_ops.py:3066: to_int32 (from tensorflow.python.ops.math_ops) is deprecated and will be removed in a future version.\n",
      "Instructions for updating:\n",
      "Use tf.cast instead.\n",
      "Train on 55000 samples, validate on 10000 samples\n",
      "Epoch 1/10\n",
      "55000/55000 [==============================] - 28s 502us/step - loss: 0.8764 - acc: 0.7165 - val_loss: 0.2874 - val_acc: 0.9144\n",
      "Epoch 2/10\n",
      "55000/55000 [==============================] - 27s 492us/step - loss: 0.3282 - acc: 0.9028 - val_loss: 0.2200 - val_acc: 0.9315\n",
      "Epoch 3/10\n",
      "55000/55000 [==============================] - 27s 493us/step - loss: 0.2488 - acc: 0.9265 - val_loss: 0.1619 - val_acc: 0.9485\n",
      "Epoch 4/10\n",
      "55000/55000 [==============================] - 27s 494us/step - loss: 0.2097 - acc: 0.9384 - val_loss: 0.1422 - val_acc: 0.9544\n",
      "Epoch 5/10\n",
      "55000/55000 [==============================] - 28s 510us/step - loss: 0.1883 - acc: 0.9443 - val_loss: 0.1238 - val_acc: 0.9592\n",
      "Epoch 6/10\n",
      "55000/55000 [==============================] - 27s 497us/step - loss: 0.1685 - acc: 0.9504 - val_loss: 0.1283 - val_acc: 0.9599\n",
      "Epoch 7/10\n",
      "55000/55000 [==============================] - 27s 489us/step - loss: 0.1567 - acc: 0.9539 - val_loss: 0.1149 - val_acc: 0.9653\n",
      "Epoch 8/10\n",
      "55000/55000 [==============================] - 27s 491us/step - loss: 0.1474 - acc: 0.9571 - val_loss: 0.0988 - val_acc: 0.9679\n",
      "Epoch 9/10\n",
      "55000/55000 [==============================] - 27s 496us/step - loss: 0.1394 - acc: 0.9591 - val_loss: 0.1076 - val_acc: 0.9650\n",
      "Epoch 10/10\n",
      "55000/55000 [==============================] - 27s 491us/step - loss: 0.1337 - acc: 0.9604 - val_loss: 0.1034 - val_acc: 0.9692\n"
     ]
    },
    {
     "data": {
      "text/plain": [
       "<keras.callbacks.History at 0x7f6c41425828>"
      ]
     },
     "execution_count": 11,
     "metadata": {
      "tags": []
     },
     "output_type": "execute_result"
    }
   ],
   "source": [
    "from keras.preprocessing.image import ImageDataGenerator\n",
    "from keras.models import Sequential\n",
    "from keras.layers.core import Dense, Dropout, Activation, Flatten\n",
    "from keras.layers.advanced_activations import PReLU\n",
    "from keras.layers.convolutional import Convolution2D, MaxPooling2D\n",
    "from keras.optimizers import SGD, Adadelta, Adagrad\n",
    "from keras.utils import np_utils, generic_utils\n",
    "from six.moves import range\n",
    "\n",
    "model = Sequential()\n",
    "\n",
    "model.add(Convolution2D(4,5,5,input_shape=(28,28,1)))\n",
    "model.add(Activation('relu'))\n",
    "model.add(MaxPooling2D(pool_size=(2,2)))\n",
    "\n",
    "model.add(Convolution2D(8,3,3))\n",
    "model.add(Activation('relu'))\n",
    "model.add(MaxPooling2D(pool_size=(2,2)))\n",
    "\n",
    "model.add(Convolution2D(16,3,3))\n",
    "model.add(Activation('relu'))\n",
    "model.add(MaxPooling2D(pool_size=(2,2)))\n",
    "\n",
    "model.add(Flatten())\n",
    "model.add(Dense(128))\n",
    "model.add(Activation('relu'))\n",
    "model.add(Dropout(0.5))\n",
    "\n",
    "model.add(Dense(10))\n",
    "model.add(Activation('softmax'))\n",
    "\n",
    "model.compile(optimizer = 'rmsprop',\n",
    "              loss='categorical_crossentropy',\n",
    "              metrics = ['accuracy'])\n",
    "\n",
    "model.fit(train_data, train_labels,\n",
    "          nb_epoch=10, batch_size=100,\n",
    "          validation_data=(test_data, test_labels))"
   ]
  },
  {
   "cell_type": "code",
   "execution_count": 0,
   "metadata": {
    "colab": {},
    "colab_type": "code",
    "id": "LEe26Z7IYldB"
   },
   "outputs": [],
   "source": [
    ""
   ]
  }
 ],
 "metadata": {
  "colab": {
   "collapsed_sections": [],
   "name": "Keras_CNN.ipynb",
   "provenance": [],
   "version": "0.3.2"
  },
  "kernelspec": {
   "display_name": "Python 3",
   "name": "python3"
  }
 },
 "nbformat": 4,
 "nbformat_minor": 0
}
